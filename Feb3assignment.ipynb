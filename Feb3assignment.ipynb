{
 "cells": [
  {
   "cell_type": "markdown",
   "id": "1f49cacd-a98e-4fa9-813b-5b0afe678c1f",
   "metadata": {},
   "source": [
    "Q1. Which keyword is used to create a function? Create a function to return a list of odd numbers in the\n",
    "range of 1 to 25."
   ]
  },
  {
   "cell_type": "markdown",
   "id": "4e3b3d21-1783-4c60-a7a1-f5d49415d947",
   "metadata": {},
   "source": [
    "Ans) The 'def' keyword is used to create a function"
   ]
  },
  {
   "cell_type": "code",
   "execution_count": 10,
   "id": "2e6cf81f-0871-46cd-b561-eb6aa77d46f2",
   "metadata": {},
   "outputs": [
    {
     "data": {
      "text/plain": [
       "[1, 3, 5, 7, 9, 11, 13, 15, 17, 19, 21, 23, 25]"
      ]
     },
     "execution_count": 10,
     "metadata": {},
     "output_type": "execute_result"
    }
   ],
   "source": [
    "#function to return a list of odd numbers in the range of 1 to 25\n",
    "def odd_number():\n",
    "    \n",
    "    odd = []\n",
    "    for i in range(1,26):\n",
    "        if i % 2 != 0:\n",
    "            odd.append(i)\n",
    "        \n",
    "    return odd\n",
    "\n",
    "odd_number()\n"
   ]
  },
  {
   "cell_type": "markdown",
   "id": "b889d17d-3c46-46d7-8acf-c635de24d5ee",
   "metadata": {},
   "source": [
    "Q2. Why *args and **kwargs is used in some functions? Create a function each for *args and **kwargs\n",
    "to demonstrate their use."
   ]
  },
  {
   "cell_type": "markdown",
   "id": "9a7dae1d-ce6e-4915-ab83-05fdddf91651",
   "metadata": {},
   "source": [
    "*args allows a function to accept an undetermined number of arguments as a tuple, while **kwargs allows a function to accept an undetermined number of keyword arguments as a dictionary."
   ]
  },
  {
   "cell_type": "code",
   "execution_count": 4,
   "id": "0b654aa0-20cd-4efc-80f9-ca86172a5712",
   "metadata": {},
   "outputs": [
    {
     "data": {
      "text/plain": [
       "173"
      ]
     },
     "execution_count": 4,
     "metadata": {},
     "output_type": "execute_result"
    }
   ],
   "source": [
    "#example of *args -> non-keyword arguments\n",
    "def my_sum(*args):\n",
    "    result = sum(args)\n",
    "    return result\n",
    "\n",
    "my_sum(1, 2, 30, 50, 90)"
   ]
  },
  {
   "cell_type": "code",
   "execution_count": 5,
   "id": "22d782c1-61cb-4fa4-95ca-30c1f61aea52",
   "metadata": {},
   "outputs": [
    {
     "data": {
      "text/plain": [
       "{'a': 100, 'b': [10, 20, 30], 'c': (10+6j), 'd': 'lol'}"
      ]
     },
     "execution_count": 5,
     "metadata": {},
     "output_type": "execute_result"
    }
   ],
   "source": [
    "#example of **kwargs -> keyword arguments\n",
    "def sample(**kwargs):\n",
    "    return kwargs\n",
    "\n",
    "sample(a=100,b=[10,20,30],c=10+6j,d=\"lol\")"
   ]
  },
  {
   "cell_type": "markdown",
   "id": "326a8343-72dd-44b2-aa55-14eecd119eb2",
   "metadata": {},
   "source": [
    "Q3. What is an iterator in python? Name the method used to initialise the iterator object and the method\n",
    "used for iteration. Use these methods to print the first five elements of the given list [2, 4, 6, 8, 10, 12, 14,\n",
    "16, 18, 20]."
   ]
  },
  {
   "cell_type": "markdown",
   "id": "07f317c1-8294-466e-8330-0747fb04a37e",
   "metadata": {},
   "source": [
    "* An iterator in Python is an object designed for iterating over iterable objects such as lists, tuples, dicts, and sets. \n",
    "* To create an iterator object, we use the iter() method. The iteration is performed by calling the next() method on the iterator object.\n",
    "* For initialisation:\n",
    "    * The __iter__() function is used to create an iterator object. \n",
    "    * The __iter__() function takes an iterable as an argument and returns an iterator object. \n",
    "    * To retrieve the next item from the iterator, we use the __next__() method."
   ]
  },
  {
   "cell_type": "code",
   "execution_count": 7,
   "id": "a69f3bfc-8118-40b1-b535-7910f5de808f",
   "metadata": {},
   "outputs": [
    {
     "name": "stdout",
     "output_type": "stream",
     "text": [
      "2\n",
      "4\n",
      "6\n",
      "8\n",
      "10\n"
     ]
    }
   ],
   "source": [
    "given_list = [2, 4, 6, 8, 10, 12, 14, 16, 18, 20]\n",
    "given_list_iter = iter(given_list)   \n",
    "for i in range(5):\n",
    "    print(next(given_list_iter)) \n"
   ]
  },
  {
   "cell_type": "markdown",
   "id": "36bad6db-2a27-45dc-a0de-22082d531cab",
   "metadata": {},
   "source": [
    "Q4. What is a generator function in python? Why yield keyword is used? Give an example of a generator\n",
    "function."
   ]
  },
  {
   "cell_type": "markdown",
   "id": "f6639817-dc37-4477-b8c9-f1202cc700a8",
   "metadata": {},
   "source": [
    "Ans) \n",
    "* A generator function in Python is a special type of function that returns an iterator that can be used to iterate over a sequence of values.\n",
    "* A generator function can generate multiple values one at a time using the yield keyword.\n",
    "* The use of yield keyword is that it allows the generator function to generate the next value in the sequence and then pause the function's execution. When the generator function is called again, it resumes execution from where it paused and generates the next value in the sequence"
   ]
  },
  {
   "cell_type": "code",
   "execution_count": 17,
   "id": "f01569a3-10ab-4bee-8240-e002b7c67b9c",
   "metadata": {},
   "outputs": [
    {
     "name": "stdout",
     "output_type": "stream",
     "text": [
      "0\n",
      "1\n",
      "1\n",
      "2\n",
      "3\n",
      "5\n",
      "8\n",
      "13\n",
      "21\n",
      "34\n"
     ]
    }
   ],
   "source": [
    "#example of generator function\n",
    "def test_fib():\n",
    "    a,b = 0,1\n",
    "    while True:\n",
    "        yield a\n",
    "        a,b=b,a+b\n",
    "fib = test_fib()\n",
    "for i in range(10):\n",
    "    print(next(fib))"
   ]
  },
  {
   "cell_type": "markdown",
   "id": "0305ebdf-449e-450b-877f-13930bb2a9fd",
   "metadata": {},
   "source": [
    "Q5. Create a generator function for prime numbers less than 1000. Use the next() method to print the\n",
    "first 20 prime numbers."
   ]
  },
  {
   "cell_type": "code",
   "execution_count": 5,
   "id": "d83e0f3d-4093-469f-a291-fed2cc103935",
   "metadata": {},
   "outputs": [
    {
     "name": "stdout",
     "output_type": "stream",
     "text": [
      "2\n",
      "3\n",
      "5\n",
      "7\n",
      "9\n",
      "11\n",
      "13\n",
      "15\n",
      "17\n",
      "19\n",
      "21\n",
      "23\n",
      "25\n",
      "27\n",
      "29\n",
      "31\n",
      "33\n",
      "35\n",
      "37\n",
      "39\n"
     ]
    }
   ],
   "source": [
    "def prime_num():\n",
    "    yield 2\n",
    "    primes = [2]\n",
    "    n = 3\n",
    "    \n",
    "    while n < 1000:\n",
    "        prime = True\n",
    "        for i in primes:\n",
    "            if n % 2 == 0:\n",
    "                prime = False\n",
    "                break\n",
    "        if prime:\n",
    "            yield n\n",
    "            primes.append(n)\n",
    "            \n",
    "        n += 2\n",
    "\n",
    "prime_gen = prime_num()\n",
    "for i in range(20):\n",
    "    print(next(prime_gen))\n",
    "    "
   ]
  },
  {
   "cell_type": "markdown",
   "id": "1bc9c8c2-f81e-4fb1-8358-81bc2af9abf6",
   "metadata": {},
   "source": [
    "Q6. Write a python program to print the first 10 Fibonacci numbers using a while loop."
   ]
  },
  {
   "cell_type": "code",
   "execution_count": 6,
   "id": "828ca617-6f69-46ba-9465-b916e91ad969",
   "metadata": {},
   "outputs": [
    {
     "name": "stdout",
     "output_type": "stream",
     "text": [
      "0\n",
      "1\n",
      "1\n",
      "2\n",
      "3\n",
      "5\n",
      "8\n",
      "13\n",
      "21\n",
      "34\n"
     ]
    }
   ],
   "source": [
    "a,b = 0,1\n",
    "count = 0\n",
    "while count < 10:\n",
    "    print(a)\n",
    "    n = a + b\n",
    "    a = b\n",
    "    b = n\n",
    "    count += 1"
   ]
  },
  {
   "cell_type": "markdown",
   "id": "a0663be8-26a0-41d1-9c38-16d03ba95078",
   "metadata": {},
   "source": [
    "Q7. Write a List Comprehension to iterate through the given string: ‘pwskills’.\n",
    "Expected output: ['p', 'w', 's', 'k', 'i', 'l', 'l', 's']"
   ]
  },
  {
   "cell_type": "code",
   "execution_count": 7,
   "id": "ed26a226-e73b-4f34-b2e7-98969ac52096",
   "metadata": {},
   "outputs": [
    {
     "data": {
      "text/plain": [
       "['p', 'w', 's', 'k', 'i', 'l', 'l', 's']"
      ]
     },
     "execution_count": 7,
     "metadata": {},
     "output_type": "execute_result"
    }
   ],
   "source": [
    "s = \"pwskills\"\n",
    "[i for i in s]"
   ]
  },
  {
   "cell_type": "markdown",
   "id": "b33715e2-c23f-417a-b3b2-3898894021fd",
   "metadata": {},
   "source": [
    "Q8. Write a python program to check whether a given number is Palindrome or not using a while loop."
   ]
  },
  {
   "cell_type": "code",
   "execution_count": 12,
   "id": "15910799-d647-4d15-9ae0-a2299d98cc74",
   "metadata": {},
   "outputs": [
    {
     "name": "stdin",
     "output_type": "stream",
     "text": [
      "Enter the number 121\n"
     ]
    },
    {
     "name": "stdout",
     "output_type": "stream",
     "text": [
      "The given number 121 is a palindrome\n"
     ]
    }
   ],
   "source": [
    "num = int(input(\"Enter the number\"))\n",
    "temp = num\n",
    "s = 0\n",
    "while num!=0:\n",
    "    r = num % 10\n",
    "    s = (s*10) + r\n",
    "    num //= 10\n",
    "\n",
    "if temp == s:\n",
    "    print(\"The given number %d is a palindrome\"%(temp))\n",
    "else:\n",
    "    print(\"The given number %d is not a palindrome\"%(temp))\n",
    "\n",
    "    "
   ]
  },
  {
   "cell_type": "markdown",
   "id": "e0a41ac6-d676-4795-bc6e-0ac3eee4f653",
   "metadata": {},
   "source": [
    "Q9. Write a code to print odd numbers from 1 to 100 using list comprehension."
   ]
  },
  {
   "cell_type": "code",
   "execution_count": 15,
   "id": "7fdc2e88-bc00-4dad-a3be-4200b7d7254f",
   "metadata": {},
   "outputs": [
    {
     "name": "stdout",
     "output_type": "stream",
     "text": [
      "1\n",
      "3\n",
      "5\n",
      "7\n",
      "9\n",
      "11\n",
      "13\n",
      "15\n",
      "17\n",
      "19\n",
      "21\n",
      "23\n",
      "25\n",
      "27\n",
      "29\n",
      "31\n",
      "33\n",
      "35\n",
      "37\n",
      "39\n",
      "41\n",
      "43\n",
      "45\n",
      "47\n",
      "49\n",
      "51\n",
      "53\n",
      "55\n",
      "57\n",
      "59\n",
      "61\n",
      "63\n",
      "65\n",
      "67\n",
      "69\n",
      "71\n",
      "73\n",
      "75\n",
      "77\n",
      "79\n",
      "81\n",
      "83\n",
      "85\n",
      "87\n",
      "89\n",
      "91\n",
      "93\n",
      "95\n",
      "97\n",
      "99\n"
     ]
    }
   ],
   "source": [
    "numbers = [i for i in range(1,101)]\n",
    "num = [i for i in numbers if i % 2 != 0]\n",
    "for i in num:\n",
    "    print(i)"
   ]
  },
  {
   "cell_type": "code",
   "execution_count": null,
   "id": "6bc436d8-6511-4f2a-a32f-a4eb637f9807",
   "metadata": {},
   "outputs": [],
   "source": []
  }
 ],
 "metadata": {
  "kernelspec": {
   "display_name": "Python 3 (ipykernel)",
   "language": "python",
   "name": "python3"
  },
  "language_info": {
   "codemirror_mode": {
    "name": "ipython",
    "version": 3
   },
   "file_extension": ".py",
   "mimetype": "text/x-python",
   "name": "python",
   "nbconvert_exporter": "python",
   "pygments_lexer": "ipython3",
   "version": "3.10.8"
  }
 },
 "nbformat": 4,
 "nbformat_minor": 5
}
